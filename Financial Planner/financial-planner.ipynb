{
 "cells": [
  {
   "cell_type": "markdown",
   "metadata": {},
   "source": [
    "# Unit 5 - Financial Planning"
   ]
  },
  {
   "cell_type": "code",
   "execution_count": 66,
   "metadata": {
    "tags": []
   },
   "outputs": [],
   "source": [
    "# Initial imports\n",
    "import os\n",
    "import requests\n",
    "import pandas as pd\n",
    "from dotenv import load_dotenv\n",
    "import alpaca_trade_api as tradeapi\n",
    "from MCForecastTools import MCSimulation\n",
    "\n",
    "%matplotlib inline"
   ]
  },
  {
   "cell_type": "code",
   "execution_count": 67,
   "metadata": {
    "tags": []
   },
   "outputs": [
    {
     "name": "stdout",
     "output_type": "stream",
     "text": [
      "Loading environment variables: True\n"
     ]
    }
   ],
   "source": [
    "# Load .env environment variables\n",
    "result = load_dotenv(\"C:\\\\Users\\\\dinau\\\\Downloads\\\\keys.env\")\n",
    "print(f\"Loading environment variables: {result}\")"
   ]
  },
  {
   "cell_type": "markdown",
   "metadata": {},
   "source": [
    "## Part 1 - Personal Finance Planner"
   ]
  },
  {
   "cell_type": "markdown",
   "metadata": {},
   "source": [
    "### Collect Crypto Prices Using the `requests` Library"
   ]
  },
  {
   "cell_type": "code",
   "execution_count": 68,
   "metadata": {
    "tags": []
   },
   "outputs": [],
   "source": [
    "# Set current amount of crypto assets\n",
    "my_btc = 1.2\n",
    "my_eth = 5.3"
   ]
  },
  {
   "cell_type": "code",
   "execution_count": 69,
   "metadata": {
    "tags": []
   },
   "outputs": [],
   "source": [
    "# Crypto API URLs\n",
    "btc_url = \"https://api.alternative.me/v2/ticker/Bitcoin/?convert=USD\"\n",
    "eth_url = \"https://api.alternative.me/v2/ticker/Ethereum/?convert=USD\""
   ]
  },
  {
   "cell_type": "code",
   "execution_count": 70,
   "metadata": {
    "tags": []
   },
   "outputs": [
    {
     "name": "stdout",
     "output_type": "stream",
     "text": [
      "{'data': {'1': {'id': 1, 'name': 'Bitcoin', 'symbol': 'BTC', 'website_slug': 'bitcoin', 'rank': 1, 'circulating_supply': 19654300, 'total_supply': 19654300, 'max_supply': 21000000, 'quotes': {'USD': {'price': 71323.0, 'volume_24h': 47985050030, 'market_cap': 1401794777463, 'percentage_change_1h': 0.338851196889215, 'percentage_change_24h': -2.36538415590106, 'percentage_change_7d': 6.02864728399517, 'percent_change_1h': 0.338851196889215, 'percent_change_24h': -2.36538415590106, 'percent_change_7d': 6.02864728399517}}, 'last_updated': 1710435639}}, 'metadata': {'timestamp': 1710435639, 'num_cryptocurrencies': 3119, 'error': None}}\n"
     ]
    }
   ],
   "source": [
    "# Fetch current BTC price\n",
    "btc_response = requests.get(btc_url).json()\n",
    "\n",
    "# Print the entire response to inspect its structure\n",
    "print(btc_response)\n"
   ]
  },
  {
   "cell_type": "code",
   "execution_count": 71,
   "metadata": {
    "tags": []
   },
   "outputs": [
    {
     "name": "stdout",
     "output_type": "stream",
     "text": [
      "{'data': {'1027': {'id': 1027, 'name': 'Ethereum', 'symbol': 'ETH', 'website_slug': 'ethereum', 'rank': 2, 'circulating_supply': 120085822, 'total_supply': 120085822, 'max_supply': 120085822, 'quotes': {'USD': {'price': 3893.21, 'volume_24h': 20690105664, 'market_cap': 467040888622, 'percentage_change_1h': 0.930080903213012, 'percentage_change_24h': -2.49782632473556, 'percentage_change_7d': 1.72361913448571, 'percent_change_1h': 0.930080903213012, 'percent_change_24h': -2.49782632473556, 'percent_change_7d': 1.72361913448571}}, 'last_updated': 1710435669}}, 'metadata': {'timestamp': 1710435669, 'num_cryptocurrencies': 3119, 'error': None}}\n"
     ]
    }
   ],
   "source": [
    "# Fetch current ETH price\n",
    "eth_response = requests.get(eth_url).json()\n",
    "\n",
    "# Print the entire response to inspect its structure\n",
    "print(eth_response)\n"
   ]
  },
  {
   "cell_type": "code",
   "execution_count": 72,
   "metadata": {
    "tags": []
   },
   "outputs": [
    {
     "name": "stdout",
     "output_type": "stream",
     "text": [
      "The current value of your 1.2 BTC is $85587.60\n",
      "The current value of your 5.3 ETH is $20634.01\n"
     ]
    }
   ],
   "source": [
    "# Fetch current BTC price\n",
    "btc_response = requests.get(btc_url).json()\n",
    "\n",
    "# Access Bitcoin price using the ID \"1\"\n",
    "btc_price = btc_response['data']['1']['quotes']['USD']['price']\n",
    "\n",
    "# Fetch current ETH price\n",
    "eth_response = requests.get(eth_url).json()\n",
    "eth_price = eth_response['data']['1027']['quotes']['USD']['price']\n",
    "\n",
    "# Compute current value of my crypto\n",
    "my_btc_value = my_btc * btc_price\n",
    "my_eth_value = my_eth * eth_price\n",
    "\n",
    "# Print current crypto wallet balance\n",
    "print(f\"The current value of your {my_btc} BTC is ${my_btc_value:0.2f}\")\n",
    "print(f\"The current value of your {my_eth} ETH is ${my_eth_value:0.2f}\")\n"
   ]
  },
  {
   "cell_type": "markdown",
   "metadata": {},
   "source": [
    "### Collect Investments Data Using Alpaca: `SPY` (stocks) and `AGG` (bonds)"
   ]
  },
  {
   "cell_type": "code",
   "execution_count": 73,
   "metadata": {
    "tags": []
   },
   "outputs": [],
   "source": [
    "# Set current amount of shares\n",
    "my_agg = 200\n",
    "my_spy = 50"
   ]
  },
  {
   "cell_type": "code",
   "execution_count": 74,
   "metadata": {
    "tags": []
   },
   "outputs": [],
   "source": [
    "# Set Alpaca API key and secret\n",
    "\n",
    "alpaca_api_key = os.getenv(\"ALPACA_API_KEY\")\n",
    "alpaca_secret_key = os.getenv(\"ALPACA_SECRET_KEY\")\n",
    "\n",
    "# Create the Alpaca API object\n",
    "alpaca = tradeapi.REST(alpaca_api_key, alpaca_secret_key, api_version=\"v2\")\n"
   ]
  },
  {
   "cell_type": "code",
   "execution_count": 75,
   "metadata": {
    "tags": []
   },
   "outputs": [
    {
     "name": "stdout",
     "output_type": "stream",
     "text": [
      "Today cleaned: 2023-10-20T00:00:00-04:00\n",
      "Tickers ASCII: ['AGG', 'SPY']\n",
      "Timeframe ASCII: 1Day\n",
      "Error: 'latin-1' codec can't encode character '\\u201c' in position 0: ordinal not in range(256)\n"
     ]
    }
   ],
   "source": [
    "#Alternative approach due to recieving unicode error multiple times\n",
    "import re\n",
    "\n",
    "# Format current date as ISO format\n",
    "today = pd.Timestamp(\"2023-10-20\", tz=\"America/New_York\").isoformat()\n",
    "\n",
    "# Remove non-ASCII characters from the ISO format string\n",
    "today_cleaned = re.sub(r'[^\\x00-\\x7F]', '', today)\n",
    "\n",
    "# Set the tickers\n",
    "tickers = [\"AGG\", \"SPY\"]\n",
    "\n",
    "# Set timeframe to \"1Day\" for Alpaca API\n",
    "timeframe = \"1Day\"\n",
    "\n",
    "# Encode ticker symbols and timeframe as ASCII after preprocessing\n",
    "tickers_cleaned = [re.sub(r'[^\\x00-\\x7F]', '', ticker) for ticker in tickers]\n",
    "tickers_ascii = [ticker.encode('ascii', 'ignore').decode() for ticker in tickers_cleaned]\n",
    "timeframe_cleaned = re.sub(r'[^\\x00-\\x7F]', '', timeframe)\n",
    "timeframe_ascii = timeframe_cleaned.encode('ascii', 'ignore').decode()\n",
    "\n",
    "# Print debugging information\n",
    "print(\"Today cleaned:\", today_cleaned)\n",
    "print(\"Tickers ASCII:\", tickers_ascii)\n",
    "print(\"Timeframe ASCII:\", timeframe_ascii)\n",
    "\n",
    "# Get current closing prices for SPY and AGG\n",
    "try:\n",
    "    df_portfolio = alpaca.get_bars(\n",
    "        tickers_ascii,\n",
    "        timeframe_ascii,\n",
    "        start=today_cleaned,\n",
    "        end=today_cleaned,\n",
    "        limit=1000\n",
    "    ).df\n",
    "\n",
    "    # Reorganize the DataFrame\n",
    "    # Separate ticker data\n",
    "    AGG = df_portfolio[df_portfolio['symbol']=='AGG'].drop('symbol', axis=1)\n",
    "    SPY = df_portfolio[df_portfolio['symbol']=='SPY'].drop('symbol', axis=1)\n",
    "\n",
    "    # Concatenate the ticker DataFrames\n",
    "    df_portfolio_con = pd.concat([AGG, SPY], axis=1, keys=['AGG', 'SPY'])\n",
    "\n",
    "    # Preview DataFrame\n",
    "    print(df_portfolio_con)\n",
    "except Exception as e:\n",
    "    print(\"Error:\", e)\n"
   ]
  },
  {
   "cell_type": "code",
   "execution_count": 76,
   "metadata": {
    "tags": []
   },
   "outputs": [
    {
     "ename": "NameError",
     "evalue": "name 'df_closing_prices' is not defined",
     "output_type": "error",
     "traceback": [
      "\u001b[1;31m---------------------------------------------------------------------------\u001b[0m",
      "\u001b[1;31mNameError\u001b[0m                                 Traceback (most recent call last)",
      "Cell \u001b[1;32mIn[76], line 2\u001b[0m\n\u001b[0;32m      1\u001b[0m \u001b[38;5;66;03m# Pick AGG and SPY close prices\u001b[39;00m\n\u001b[1;32m----> 2\u001b[0m agg_close_price \u001b[38;5;241m=\u001b[39m df_closing_prices[\u001b[38;5;124m\"\u001b[39m\u001b[38;5;124mAGG\u001b[39m\u001b[38;5;124m\"\u001b[39m]\u001b[38;5;241m.\u001b[39miloc[\u001b[38;5;241m-\u001b[39m\u001b[38;5;241m1\u001b[39m]\n\u001b[0;32m      3\u001b[0m spy_close_price \u001b[38;5;241m=\u001b[39m df_closing_prices[\u001b[38;5;124m\"\u001b[39m\u001b[38;5;124mSPY\u001b[39m\u001b[38;5;124m\"\u001b[39m]\u001b[38;5;241m.\u001b[39miloc[\u001b[38;5;241m-\u001b[39m\u001b[38;5;241m1\u001b[39m]\n\u001b[0;32m      5\u001b[0m \u001b[38;5;66;03m# Print AGG and SPY close prices\u001b[39;00m\n",
      "\u001b[1;31mNameError\u001b[0m: name 'df_closing_prices' is not defined"
     ]
    }
   ],
   "source": [
    "# Pick AGG and SPY close prices\n",
    "agg_close_price = df_closing_prices[\"AGG\"].iloc[-1]\n",
    "spy_close_price = df_closing_prices[\"SPY\"].iloc[-1]\n",
    "\n",
    "# Print AGG and SPY close prices\n",
    "print(f\"Current AGG closing price: ${agg_close_price}\")\n",
    "print(f\"Current SPY closing price: ${spy_close_price}\")\n"
   ]
  },
  {
   "cell_type": "code",
   "execution_count": 77,
   "metadata": {
    "tags": []
   },
   "outputs": [
    {
     "ename": "NameError",
     "evalue": "name 'agg_close_price' is not defined",
     "output_type": "error",
     "traceback": [
      "\u001b[1;31m---------------------------------------------------------------------------\u001b[0m",
      "\u001b[1;31mNameError\u001b[0m                                 Traceback (most recent call last)",
      "Cell \u001b[1;32mIn[77], line 2\u001b[0m\n\u001b[0;32m      1\u001b[0m \u001b[38;5;66;03m# Compute the current value of shares\u001b[39;00m\n\u001b[1;32m----> 2\u001b[0m my_agg_value \u001b[38;5;241m=\u001b[39m my_agg \u001b[38;5;241m*\u001b[39m agg_close_price\n\u001b[0;32m      3\u001b[0m my_spy_value \u001b[38;5;241m=\u001b[39m my_spy \u001b[38;5;241m*\u001b[39m spy_close_price\n\u001b[0;32m      5\u001b[0m \u001b[38;5;66;03m# Print current value of shares\u001b[39;00m\n",
      "\u001b[1;31mNameError\u001b[0m: name 'agg_close_price' is not defined"
     ]
    }
   ],
   "source": [
    "# Compute the current value of shares\n",
    "my_agg_value = my_agg * agg_close_price\n",
    "my_spy_value = my_spy * spy_close_price\n",
    "\n",
    "# Print current value of shares\n",
    "print(f\"The current value of your {my_spy} SPY shares is ${my_spy_value:0.2f}\")\n",
    "print(f\"The current value of your {my_agg} AGG shares is ${my_agg_value:0.2f}\")"
   ]
  },
  {
   "cell_type": "markdown",
   "metadata": {},
   "source": [
    "### Savings Health Analysis"
   ]
  },
  {
   "cell_type": "code",
   "execution_count": 78,
   "metadata": {
    "tags": []
   },
   "outputs": [
    {
     "data": {
      "text/html": [
       "<div>\n",
       "<style scoped>\n",
       "    .dataframe tbody tr th:only-of-type {\n",
       "        vertical-align: middle;\n",
       "    }\n",
       "\n",
       "    .dataframe tbody tr th {\n",
       "        vertical-align: top;\n",
       "    }\n",
       "\n",
       "    .dataframe thead th {\n",
       "        text-align: right;\n",
       "    }\n",
       "</style>\n",
       "<table border=\"1\" class=\"dataframe\">\n",
       "  <thead>\n",
       "    <tr style=\"text-align: right;\">\n",
       "      <th></th>\n",
       "      <th>amount</th>\n",
       "    </tr>\n",
       "  </thead>\n",
       "  <tbody>\n",
       "    <tr>\n",
       "      <th>crypto</th>\n",
       "      <td>106221.613</td>\n",
       "    </tr>\n",
       "    <tr>\n",
       "      <th>stock/bond</th>\n",
       "      <td>250.000</td>\n",
       "    </tr>\n",
       "  </tbody>\n",
       "</table>\n",
       "</div>"
      ],
      "text/plain": [
       "                amount\n",
       "crypto      106221.613\n",
       "stock/bond     250.000"
      ]
     },
     "metadata": {},
     "output_type": "display_data"
    }
   ],
   "source": [
    "# Set monthly household income\n",
    "monthly_income = 12000\n",
    "\n",
    "# Consolidate financial assets data\n",
    "total_crypto_wallet_value = my_btc_value + my_eth_value\n",
    "total_stock_bond_value = my_agg + my_spy\n",
    "\n",
    "# Create savings DataFrame\n",
    "savings_data = [total_crypto_wallet_value, total_stock_bond_value]\n",
    "columns = ['amount']\n",
    "index = ['crypto', 'stock/bond']\n",
    "savings_df = pd.DataFrame(savings_data, columns=columns, index=index)\n",
    "\n",
    "# Display savings DataFrame\n",
    "display(savings_df)"
   ]
  },
  {
   "cell_type": "code",
   "execution_count": 79,
   "metadata": {
    "tags": []
   },
   "outputs": [
    {
     "data": {
      "text/plain": [
       "<Axes: title={'center': 'Composition of Personal Savings'}, ylabel='amount'>"
      ]
     },
     "execution_count": 79,
     "metadata": {},
     "output_type": "execute_result"
    },
    {
     "data": {
      "image/png": "[encoded data removed]",
      "text/plain": [
       "<Figure size 600x600 with 1 Axes>"
      ]
     },
     "metadata": {},
     "output_type": "display_data"
    }
   ],
   "source": [
    "# Plot savings pie chart\n",
    "savings_df.plot(kind='pie', y='amount', figsize=(6, 6), autopct='%1.1f%%', startangle=140, title='Composition of Personal Savings', colors=['pink', 'skyblue'])\n"
   ]
  },
  {
   "cell_type": "code",
   "execution_count": 80,
   "metadata": {
    "tags": []
   },
   "outputs": [
    {
     "name": "stdout",
     "output_type": "stream",
     "text": [
      "\n",
      "Total savings: $106471.61\n",
      "Composition of savings: Crypto: $106221.61, Stock/Bond: $250.00\n",
      "\n",
      "Congratulations! You have enough money in your emergency fund.\n"
     ]
    }
   ],
   "source": [
    "# Set ideal emergency fund\n",
    "emergency_fund = monthly_income * 3\n",
    "\n",
    "# Calculate total amount of savings\n",
    "total_savings = total_crypto_wallet_value + total_stock_bond_value\n",
    "\n",
    "# Print total savings and composition\n",
    "print(f\"\\nTotal savings: ${total_savings:.2f}\")\n",
    "print(f\"Composition of savings: Crypto: ${total_crypto_wallet_value:.2f}, Stock/Bond: ${total_stock_bond_value:.2f}\")\n",
    "\n",
    "# Validate saving health\n",
    "if total_savings > emergency_fund:\n",
    "    print(\"\\nCongratulations! You have enough money in your emergency fund.\")\n",
    "elif total_savings == emergency_fund:\n",
    "    print(\"\\nCongratulations on reaching this important financial goal!\")\n",
    "else:\n",
    "    shortfall = emergency_fund - total_savings\n",
    "    print(f\"\\nYou are ${shortfall:.2f} away from reaching your emergency fund goal.\")\n"
   ]
  },
  {
   "cell_type": "markdown",
   "metadata": {},
   "source": [
    "## Part 2 - Retirement Planning\n",
    "\n",
    "### Monte Carlo Simulation"
   ]
  },
  {
   "cell_type": "code",
   "execution_count": 81,
   "metadata": {
    "tags": []
   },
   "outputs": [],
   "source": [
    "# Set start and end dates of five years back from today.\n",
    "# Sample results may vary from the solution based on the time frame chosen\n",
    "start_date = pd.Timestamp('2016-05-01', tz='America/New_York').isoformat()\n",
    "end_date = pd.Timestamp('2021-05-01', tz='America/New_York').isoformat()"
   ]
  },
  {
   "cell_type": "code",
   "execution_count": 82,
   "metadata": {
    "tags": []
   },
   "outputs": [
    {
     "name": "stdout",
     "output_type": "stream",
     "text": [
      "UnicodeEncodeError occurred:\n",
      "Problematic variable: 1Day\n",
      "'latin-1' codec can't encode character '\\u201c' in position 0: ordinal not in range(256)\n"
     ]
    }
   ],
   "source": [
    "#Trying to fix the same unicode error with alternative approaches \n",
    "\n",
    "import unicodedata\n",
    "\n",
    "# Define the timeframe variable (assuming it's causing the UnicodeEncodeError)\n",
    "timeframe = \"1Day\"\n",
    "\n",
    "try:\n",
    "    # Encode the timeframe variable directly using UTF-8\n",
    "    timeframe_encoded = timeframe.encode('utf-8')\n",
    "\n",
    "    # Get historical data\n",
    "    stock_data = alpaca.get_bars(\n",
    "        tickers_ascii,\n",
    "        timeframe_encoded,\n",
    "        start=start_date,\n",
    "        end=end_date,\n",
    "        limit=1000\n",
    "    ).df\n",
    "\n",
    "    # Reorganize the DataFrame\n",
    "    # Separate ticker data\n",
    "    AGG = stock_data[stock_data['symbol'] == 'AGG']\n",
    "except UnicodeEncodeError as e:\n",
    "    print(\"UnicodeEncodeError occurred:\")\n",
    "    print(f\"Problematic variable: {timeframe}\")\n",
    "    print(e)"
   ]
  },
  {
   "cell_type": "code",
   "execution_count": 83,
   "metadata": {
    "tags": []
   },
   "outputs": [
    {
     "ename": "NameError",
     "evalue": "name 'stock_data_agg_spy' is not defined",
     "output_type": "error",
     "traceback": [
      "\u001b[1;31m---------------------------------------------------------------------------\u001b[0m",
      "\u001b[1;31mNameError\u001b[0m                                 Traceback (most recent call last)",
      "Cell \u001b[1;32mIn[83], line 4\u001b[0m\n\u001b[0;32m      1\u001b[0m \u001b[38;5;66;03m# Configuring a Monte Carlo simulation to forecast 30 years cumulative returns\u001b[39;00m\n\u001b[0;32m      3\u001b[0m sim_30y \u001b[38;5;241m=\u001b[39m MCSimulation(\n\u001b[1;32m----> 4\u001b[0m     portfolio_data\u001b[38;5;241m=\u001b[39mstock_data_agg_spy,\n\u001b[0;32m      5\u001b[0m     weights\u001b[38;5;241m=\u001b[39m[\u001b[38;5;241m0.40\u001b[39m, \u001b[38;5;241m0.60\u001b[39m],  \u001b[38;5;66;03m# Assuming 40% AGG and 60% SPY\u001b[39;00m\n\u001b[0;32m      6\u001b[0m     num_simulation\u001b[38;5;241m=\u001b[39m\u001b[38;5;241m500\u001b[39m,\n\u001b[0;32m      7\u001b[0m     num_trading_days\u001b[38;5;241m=\u001b[39m\u001b[38;5;241m252\u001b[39m \u001b[38;5;241m*\u001b[39m \u001b[38;5;241m30\u001b[39m  \u001b[38;5;66;03m#Assuming 252 trading days in a year\u001b[39;00m\n\u001b[0;32m      8\u001b[0m )\n\u001b[0;32m     10\u001b[0m \u001b[38;5;66;03m# Calculate cumulative returns\u001b[39;00m\n\u001b[0;32m     11\u001b[0m sim_30y\u001b[38;5;241m.\u001b[39mcalc_cumulative_return()\n",
      "\u001b[1;31mNameError\u001b[0m: name 'stock_data_agg_spy' is not defined"
     ]
    }
   ],
   "source": [
    "# Configuring a Monte Carlo simulation to forecast 30 years cumulative returns\n",
    "\n",
    "sim_30y = MCSimulation(\n",
    "    portfolio_data=stock_data_agg_spy,\n",
    "    weights=[0.40, 0.60],  # Assuming 40% AGG and 60% SPY\n",
    "    num_simulation=500,\n",
    "    num_trading_days=252 * 30  #Assuming 252 trading days in a year\n",
    ")\n",
    "\n",
    "# Calculate cumulative returns\n",
    "sim_30y.calc_cumulative_return()\n",
    "\n",
    "# Print simulation input data\n",
    "print(sim_30y.portfolio_data.head())\n"
   ]
  },
  {
   "cell_type": "code",
   "execution_count": 84,
   "metadata": {
    "tags": []
   },
   "outputs": [
    {
     "ename": "NameError",
     "evalue": "name 'sim_30y' is not defined",
     "output_type": "error",
     "traceback": [
      "\u001b[1;31m---------------------------------------------------------------------------\u001b[0m",
      "\u001b[1;31mNameError\u001b[0m                                 Traceback (most recent call last)",
      "Cell \u001b[1;32mIn[84], line 2\u001b[0m\n\u001b[0;32m      1\u001b[0m \u001b[38;5;66;03m# Printing the simulation input data\u001b[39;00m\n\u001b[1;32m----> 2\u001b[0m \u001b[38;5;28mprint\u001b[39m(sim_30y\u001b[38;5;241m.\u001b[39mportfolio_data\u001b[38;5;241m.\u001b[39mhead())\n",
      "\u001b[1;31mNameError\u001b[0m: name 'sim_30y' is not defined"
     ]
    }
   ],
   "source": [
    "# Printing the simulation input data\n",
    "print(sim_30y.portfolio_data.head())"
   ]
  },
  {
   "cell_type": "code",
   "execution_count": 85,
   "metadata": {
    "tags": []
   },
   "outputs": [
    {
     "ename": "NameError",
     "evalue": "name 'sim_30y' is not defined",
     "output_type": "error",
     "traceback": [
      "\u001b[1;31m---------------------------------------------------------------------------\u001b[0m",
      "\u001b[1;31mNameError\u001b[0m                                 Traceback (most recent call last)",
      "Cell \u001b[1;32mIn[85], line 2\u001b[0m\n\u001b[0;32m      1\u001b[0m \u001b[38;5;66;03m# Running a Monte Carlo simulation to forecast 30 years cumulative returns\u001b[39;00m\n\u001b[1;32m----> 2\u001b[0m sim_30y\u001b[38;5;241m.\u001b[39mrun_simulation()\n",
      "\u001b[1;31mNameError\u001b[0m: name 'sim_30y' is not defined"
     ]
    }
   ],
   "source": [
    "# Running a Monte Carlo simulation to forecast 30 years cumulative returns\n",
    "sim_30y.run_simulation()"
   ]
  },
  {
   "cell_type": "code",
   "execution_count": 86,
   "metadata": {
    "tags": []
   },
   "outputs": [
    {
     "ename": "NameError",
     "evalue": "name 'sim_30y' is not defined",
     "output_type": "error",
     "traceback": [
      "\u001b[1;31m---------------------------------------------------------------------------\u001b[0m",
      "\u001b[1;31mNameError\u001b[0m                                 Traceback (most recent call last)",
      "Cell \u001b[1;32mIn[86], line 2\u001b[0m\n\u001b[0;32m      1\u001b[0m \u001b[38;5;66;03m# Plot simulation outcomes\u001b[39;00m\n\u001b[1;32m----> 2\u001b[0m sim_30y\u001b[38;5;241m.\u001b[39mplot_simulation()\n",
      "\u001b[1;31mNameError\u001b[0m: name 'sim_30y' is not defined"
     ]
    }
   ],
   "source": [
    "# Plot simulation outcomes\n",
    "sim_30y.plot_simulation()"
   ]
  },
  {
   "cell_type": "code",
   "execution_count": 87,
   "metadata": {
    "tags": []
   },
   "outputs": [
    {
     "ename": "NameError",
     "evalue": "name 'sim_30y' is not defined",
     "output_type": "error",
     "traceback": [
      "\u001b[1;31m---------------------------------------------------------------------------\u001b[0m",
      "\u001b[1;31mNameError\u001b[0m                                 Traceback (most recent call last)",
      "Cell \u001b[1;32mIn[87], line 2\u001b[0m\n\u001b[0;32m      1\u001b[0m \u001b[38;5;66;03m# Plot probability distribution and confidence intervals\u001b[39;00m\n\u001b[1;32m----> 2\u001b[0m sim_30y\u001b[38;5;241m.\u001b[39mplot_distribution()\n",
      "\u001b[1;31mNameError\u001b[0m: name 'sim_30y' is not defined"
     ]
    }
   ],
   "source": [
    "# Plot probability distribution and confidence intervals\n",
    "sim_30y.plot_distribution()"
   ]
  },
  {
   "cell_type": "markdown",
   "metadata": {},
   "source": [
    "### Retirement Analysis"
   ]
  },
  {
   "cell_type": "code",
   "execution_count": 88,
   "metadata": {
    "tags": []
   },
   "outputs": [
    {
     "ename": "NameError",
     "evalue": "name 'sim_30y' is not defined",
     "output_type": "error",
     "traceback": [
      "\u001b[1;31m---------------------------------------------------------------------------\u001b[0m",
      "\u001b[1;31mNameError\u001b[0m                                 Traceback (most recent call last)",
      "Cell \u001b[1;32mIn[88], line 2\u001b[0m\n\u001b[0;32m      1\u001b[0m \u001b[38;5;66;03m# Fetch summary statistics from the Monte Carlo simulation results\u001b[39;00m\n\u001b[1;32m----> 2\u001b[0m summary_stats \u001b[38;5;241m=\u001b[39m sim_30y\u001b[38;5;241m.\u001b[39msummarize_cumulative_return()\n\u001b[0;32m      4\u001b[0m \u001b[38;5;66;03m# Print summary statistics\u001b[39;00m\n\u001b[0;32m      5\u001b[0m \u001b[38;5;28mprint\u001b[39m(summary_stats)\n",
      "\u001b[1;31mNameError\u001b[0m: name 'sim_30y' is not defined"
     ]
    }
   ],
   "source": [
    "# Fetch summary statistics from the Monte Carlo simulation results\n",
    "summary_stats = sim_30y.summarize_cumulative_return()\n",
    "\n",
    "# Print summary statistics\n",
    "print(summary_stats)"
   ]
  },
  {
   "cell_type": "markdown",
   "metadata": {},
   "source": [
    "### Calculate the expected portfolio return at the `95%` lower and upper confidence intervals based on a `$20,000` initial investment."
   ]
  },
  {
   "cell_type": "code",
   "execution_count": 89,
   "metadata": {
    "tags": []
   },
   "outputs": [
    {
     "ename": "NameError",
     "evalue": "name 'summary_stats' is not defined",
     "output_type": "error",
     "traceback": [
      "\u001b[1;31m---------------------------------------------------------------------------\u001b[0m",
      "\u001b[1;31mNameError\u001b[0m                                 Traceback (most recent call last)",
      "Cell \u001b[1;32mIn[89], line 6\u001b[0m\n\u001b[0;32m      2\u001b[0m initial_investment \u001b[38;5;241m=\u001b[39m \u001b[38;5;241m20000\u001b[39m\n\u001b[0;32m      4\u001b[0m \u001b[38;5;66;03m# Use the lower and upper `95%` confidence intervals to calculate the range of the possible outcomes of our $20,000\u001b[39;00m\n\u001b[1;32m----> 6\u001b[0m ci_lower \u001b[38;5;241m=\u001b[39m summary_stats\u001b[38;5;241m.\u001b[39mloc[\u001b[38;5;124m\"\u001b[39m\u001b[38;5;124m95\u001b[39m\u001b[38;5;124m%\u001b[39m\u001b[38;5;124m CI Lower\u001b[39m\u001b[38;5;124m\"\u001b[39m] \u001b[38;5;241m*\u001b[39m initial_investment\n\u001b[0;32m      7\u001b[0m ci_upper \u001b[38;5;241m=\u001b[39m summary_stats\u001b[38;5;241m.\u001b[39mloc[\u001b[38;5;124m\"\u001b[39m\u001b[38;5;124m95\u001b[39m\u001b[38;5;124m%\u001b[39m\u001b[38;5;124m CI Upper\u001b[39m\u001b[38;5;124m\"\u001b[39m] \u001b[38;5;241m*\u001b[39m initial_investment\n\u001b[0;32m     10\u001b[0m \u001b[38;5;66;03m# Print results\u001b[39;00m\n",
      "\u001b[1;31mNameError\u001b[0m: name 'summary_stats' is not defined"
     ]
    }
   ],
   "source": [
    "# Set initial investment\n",
    "initial_investment = 20000\n",
    "\n",
    "# Use the lower and upper `95%` confidence intervals to calculate the range of the possible outcomes of our $20,000\n",
    "\n",
    "ci_lower = summary_stats.loc[\"95% CI Lower\"] * initial_investment\n",
    "ci_upper = summary_stats.loc[\"95% CI Upper\"] * initial_investment\n",
    "\n",
    "\n",
    "# Print results\n",
    "print(f\"There is a 95% chance that an initial investment of ${initial_investment} in the portfolio\"\n",
    "      f\" over the next 30 years will end within in the range of\"\n",
    "      f\" ${ci_lower} and ${ci_upper}\")"
   ]
  },
  {
   "cell_type": "markdown",
   "metadata": {},
   "source": [
    "### Calculate the expected portfolio return at the `95%` lower and upper confidence intervals based on a `50%` increase in the initial investment."
   ]
  },
  {
   "cell_type": "code",
   "execution_count": 90,
   "metadata": {
    "tags": []
   },
   "outputs": [
    {
     "ename": "NameError",
     "evalue": "name 'summary_stats' is not defined",
     "output_type": "error",
     "traceback": [
      "\u001b[1;31m---------------------------------------------------------------------------\u001b[0m",
      "\u001b[1;31mNameError\u001b[0m                                 Traceback (most recent call last)",
      "Cell \u001b[1;32mIn[90], line 5\u001b[0m\n\u001b[0;32m      2\u001b[0m initial_investment \u001b[38;5;241m=\u001b[39m \u001b[38;5;241m20000\u001b[39m \u001b[38;5;241m*\u001b[39m \u001b[38;5;241m1.5\u001b[39m\n\u001b[0;32m      4\u001b[0m \u001b[38;5;66;03m# Use the lower and upper `95%` confidence intervals to calculate the range of the possible outcomes of our $30,000\u001b[39;00m\n\u001b[1;32m----> 5\u001b[0m ci_lower \u001b[38;5;241m=\u001b[39m summary_stats\u001b[38;5;241m.\u001b[39mloc[\u001b[38;5;124m\"\u001b[39m\u001b[38;5;124m95\u001b[39m\u001b[38;5;124m%\u001b[39m\u001b[38;5;124m CI Lower\u001b[39m\u001b[38;5;124m\"\u001b[39m] \u001b[38;5;241m*\u001b[39m initial_investment\n\u001b[0;32m      6\u001b[0m ci_upper \u001b[38;5;241m=\u001b[39m summary_stats\u001b[38;5;241m.\u001b[39mloc[\u001b[38;5;124m\"\u001b[39m\u001b[38;5;124m95\u001b[39m\u001b[38;5;124m%\u001b[39m\u001b[38;5;124m CI Upper\u001b[39m\u001b[38;5;124m\"\u001b[39m] \u001b[38;5;241m*\u001b[39m initial_investment\n\u001b[0;32m      8\u001b[0m \u001b[38;5;66;03m# Print results\u001b[39;00m\n",
      "\u001b[1;31mNameError\u001b[0m: name 'summary_stats' is not defined"
     ]
    }
   ],
   "source": [
    "# Set initial investment\n",
    "initial_investment = 20000 * 1.5\n",
    "\n",
    "# Use the lower and upper `95%` confidence intervals to calculate the range of the possible outcomes of our $30,000\n",
    "ci_lower = summary_stats.loc[\"95% CI Lower\"] * initial_investment\n",
    "ci_upper = summary_stats.loc[\"95% CI Upper\"] * initial_investment\n",
    "\n",
    "# Print results\n",
    "print(f\"There is a 95% chance that an initial investment of ${initial_investment} in the portfolio\"\n",
    "      f\" over the next 30 years will end within in the range of\"\n",
    "      f\" ${ci_lower} and ${ci_upper}\")"
   ]
  },
  {
   "cell_type": "markdown",
   "metadata": {},
   "source": [
    "## Optional Challenge - Early Retirement\n",
    "\n",
    "\n",
    "### Five Years Retirement Option"
   ]
  },
  {
   "cell_type": "code",
   "execution_count": 91,
   "metadata": {
    "tags": []
   },
   "outputs": [
    {
     "ename": "NameError",
     "evalue": "name 'stock_data' is not defined",
     "output_type": "error",
     "traceback": [
      "\u001b[1;31m---------------------------------------------------------------------------\u001b[0m",
      "\u001b[1;31mNameError\u001b[0m                                 Traceback (most recent call last)",
      "Cell \u001b[1;32mIn[91], line 3\u001b[0m\n\u001b[0;32m      1\u001b[0m \u001b[38;5;66;03m# Configuring a Monte Carlo simulation to forecast 5 years cumulative returns\u001b[39;00m\n\u001b[0;32m      2\u001b[0m sim_5y \u001b[38;5;241m=\u001b[39m MCSimulation(\n\u001b[1;32m----> 3\u001b[0m     portfolio_data\u001b[38;5;241m=\u001b[39mstock_data,\n\u001b[0;32m      4\u001b[0m     weights\u001b[38;5;241m=\u001b[39m[\u001b[38;5;241m0.40\u001b[39m, \u001b[38;5;241m0.60\u001b[39m],  \n\u001b[0;32m      5\u001b[0m     num_simulation\u001b[38;5;241m=\u001b[39m\u001b[38;5;241m500\u001b[39m,\n\u001b[0;32m      6\u001b[0m     num_trading_days\u001b[38;5;241m=\u001b[39m\u001b[38;5;241m252\u001b[39m \u001b[38;5;241m*\u001b[39m \u001b[38;5;241m5\u001b[39m  \n\u001b[0;32m      7\u001b[0m )\n",
      "\u001b[1;31mNameError\u001b[0m: name 'stock_data' is not defined"
     ]
    }
   ],
   "source": [
    "# Configuring a Monte Carlo simulation to forecast 5 years cumulative returns\n",
    "sim_5y = MCSimulation(\n",
    "    portfolio_data=stock_data,\n",
    "    weights=[0.40, 0.60],  \n",
    "    num_simulation=500,\n",
    "    num_trading_days=252 * 5  \n",
    ")\n"
   ]
  },
  {
   "cell_type": "code",
   "execution_count": 92,
   "metadata": {
    "tags": []
   },
   "outputs": [
    {
     "ename": "NameError",
     "evalue": "name 'sim_5y' is not defined",
     "output_type": "error",
     "traceback": [
      "\u001b[1;31m---------------------------------------------------------------------------\u001b[0m",
      "\u001b[1;31mNameError\u001b[0m                                 Traceback (most recent call last)",
      "Cell \u001b[1;32mIn[92], line 2\u001b[0m\n\u001b[0;32m      1\u001b[0m \u001b[38;5;66;03m# Running a Monte Carlo simulation to forecast 5 years cumulative returns\u001b[39;00m\n\u001b[1;32m----> 2\u001b[0m sim_5y\u001b[38;5;241m.\u001b[39mcalc_cumulative_return()\n",
      "\u001b[1;31mNameError\u001b[0m: name 'sim_5y' is not defined"
     ]
    }
   ],
   "source": [
    "# Running a Monte Carlo simulation to forecast 5 years cumulative returns\n",
    "sim_5y.calc_cumulative_return()"
   ]
  },
  {
   "cell_type": "code",
   "execution_count": 93,
   "metadata": {
    "tags": []
   },
   "outputs": [
    {
     "ename": "NameError",
     "evalue": "name 'sim_5y' is not defined",
     "output_type": "error",
     "traceback": [
      "\u001b[1;31m---------------------------------------------------------------------------\u001b[0m",
      "\u001b[1;31mNameError\u001b[0m                                 Traceback (most recent call last)",
      "Cell \u001b[1;32mIn[93], line 2\u001b[0m\n\u001b[0;32m      1\u001b[0m \u001b[38;5;66;03m# Plot simulation outcomes\u001b[39;00m\n\u001b[1;32m----> 2\u001b[0m line_plot \u001b[38;5;241m=\u001b[39m sim_5y\u001b[38;5;241m.\u001b[39mplot_simulation()\n",
      "\u001b[1;31mNameError\u001b[0m: name 'sim_5y' is not defined"
     ]
    }
   ],
   "source": [
    "# Plot simulation outcomes\n",
    "line_plot = sim_5y.plot_simulation()"
   ]
  },
  {
   "cell_type": "code",
   "execution_count": 94,
   "metadata": {
    "tags": []
   },
   "outputs": [
    {
     "ename": "NameError",
     "evalue": "name 'sim_5y' is not defined",
     "output_type": "error",
     "traceback": [
      "\u001b[1;31m---------------------------------------------------------------------------\u001b[0m",
      "\u001b[1;31mNameError\u001b[0m                                 Traceback (most recent call last)",
      "Cell \u001b[1;32mIn[94], line 2\u001b[0m\n\u001b[0;32m      1\u001b[0m \u001b[38;5;66;03m# Plot probability distribution and confidence intervals\u001b[39;00m\n\u001b[1;32m----> 2\u001b[0m dist_plot \u001b[38;5;241m=\u001b[39m sim_5y\u001b[38;5;241m.\u001b[39mplot_distribution()\n",
      "\u001b[1;31mNameError\u001b[0m: name 'sim_5y' is not defined"
     ]
    }
   ],
   "source": [
    "# Plot probability distribution and confidence intervals\n",
    "dist_plot = sim_5y.plot_distribution()"
   ]
  },
  {
   "cell_type": "code",
   "execution_count": 95,
   "metadata": {
    "tags": []
   },
   "outputs": [
    {
     "ename": "NameError",
     "evalue": "name 'sim_5y' is not defined",
     "output_type": "error",
     "traceback": [
      "\u001b[1;31m---------------------------------------------------------------------------\u001b[0m",
      "\u001b[1;31mNameError\u001b[0m                                 Traceback (most recent call last)",
      "Cell \u001b[1;32mIn[95], line 2\u001b[0m\n\u001b[0;32m      1\u001b[0m \u001b[38;5;66;03m# Fetch summary statistics from the Monte Carlo simulation results\u001b[39;00m\n\u001b[1;32m----> 2\u001b[0m summary_stats \u001b[38;5;241m=\u001b[39m sim_5y\u001b[38;5;241m.\u001b[39msummarize_cumulative_return()\n\u001b[0;32m      4\u001b[0m \u001b[38;5;66;03m# Print summary statistics\u001b[39;00m\n\u001b[0;32m      5\u001b[0m \u001b[38;5;28mprint\u001b[39m(summary_stats)\n",
      "\u001b[1;31mNameError\u001b[0m: name 'sim_5y' is not defined"
     ]
    }
   ],
   "source": [
    "# Fetch summary statistics from the Monte Carlo simulation results\n",
    "summary_stats = sim_5y.summarize_cumulative_return()\n",
    "\n",
    "# Print summary statistics\n",
    "print(summary_stats)"
   ]
  },
  {
   "cell_type": "code",
   "execution_count": 96,
   "metadata": {
    "tags": []
   },
   "outputs": [
    {
     "ename": "NameError",
     "evalue": "name 'summary_stats' is not defined",
     "output_type": "error",
     "traceback": [
      "\u001b[1;31m---------------------------------------------------------------------------\u001b[0m",
      "\u001b[1;31mNameError\u001b[0m                                 Traceback (most recent call last)",
      "Cell \u001b[1;32mIn[96], line 5\u001b[0m\n\u001b[0;32m      2\u001b[0m initial_investment \u001b[38;5;241m=\u001b[39m \u001b[38;5;241m60000\u001b[39m\n\u001b[0;32m      4\u001b[0m \u001b[38;5;66;03m# Use the lower and upper `95%` confidence intervals to calculate the range of the possible outcomes of our $60,000\u001b[39;00m\n\u001b[1;32m----> 5\u001b[0m ci_lower_five \u001b[38;5;241m=\u001b[39m \u001b[38;5;28mround\u001b[39m(summary_stats[\u001b[38;5;241m8\u001b[39m] \u001b[38;5;241m*\u001b[39m initial_investment, \u001b[38;5;241m2\u001b[39m)\n\u001b[0;32m      6\u001b[0m ci_upper_five \u001b[38;5;241m=\u001b[39m \u001b[38;5;28mround\u001b[39m(summary_stats[\u001b[38;5;241m9\u001b[39m] \u001b[38;5;241m*\u001b[39m initial_investment, \u001b[38;5;241m2\u001b[39m)\n\u001b[0;32m      8\u001b[0m \u001b[38;5;66;03m# Print results\u001b[39;00m\n",
      "\u001b[1;31mNameError\u001b[0m: name 'summary_stats' is not defined"
     ]
    }
   ],
   "source": [
    "# Set initial investment\n",
    "initial_investment = 60000\n",
    "\n",
    "# Use the lower and upper `95%` confidence intervals to calculate the range of the possible outcomes of our $60,000\n",
    "ci_lower_five = round(summary_stats[8] * initial_investment, 2)\n",
    "ci_upper_five = round(summary_stats[9] * initial_investment, 2)\n",
    "\n",
    "# Print results\n",
    "print(f\"There is a 95% chance that an initial investment of ${initial_investment} in the portfolio\"\n",
    "      f\" over the next 5 years will end within in the range of\"\n",
    "      f\" ${ci_lower_five} and ${ci_upper_five}\")"
   ]
  },
  {
   "cell_type": "markdown",
   "metadata": {},
   "source": [
    "### Ten Years Retirement Option"
   ]
  },
  {
   "cell_type": "code",
   "execution_count": 97,
   "metadata": {
    "tags": []
   },
   "outputs": [
    {
     "ename": "NameError",
     "evalue": "name 'stock_data' is not defined",
     "output_type": "error",
     "traceback": [
      "\u001b[1;31m---------------------------------------------------------------------------\u001b[0m",
      "\u001b[1;31mNameError\u001b[0m                                 Traceback (most recent call last)",
      "Cell \u001b[1;32mIn[97], line 3\u001b[0m\n\u001b[0;32m      1\u001b[0m \u001b[38;5;66;03m# Configuring a Monte Carlo simulation to forecast 10 years cumulative returns\u001b[39;00m\n\u001b[0;32m      2\u001b[0m sim_10y \u001b[38;5;241m=\u001b[39m MCSimulation(\n\u001b[1;32m----> 3\u001b[0m     portfolio_data\u001b[38;5;241m=\u001b[39mstock_data,\n\u001b[0;32m      4\u001b[0m     weights\u001b[38;5;241m=\u001b[39m[\u001b[38;5;241m0.40\u001b[39m, \u001b[38;5;241m0.60\u001b[39m], \n\u001b[0;32m      5\u001b[0m     num_simulation\u001b[38;5;241m=\u001b[39m\u001b[38;5;241m500\u001b[39m,\n\u001b[0;32m      6\u001b[0m     num_trading_days\u001b[38;5;241m=\u001b[39m\u001b[38;5;241m252\u001b[39m \u001b[38;5;241m*\u001b[39m \u001b[38;5;241m10\u001b[39m  \n\u001b[0;32m      7\u001b[0m )\n",
      "\u001b[1;31mNameError\u001b[0m: name 'stock_data' is not defined"
     ]
    }
   ],
   "source": [
    "# Configuring a Monte Carlo simulation to forecast 10 years cumulative returns\n",
    "sim_10y = MCSimulation(\n",
    "    portfolio_data=stock_data,\n",
    "    weights=[0.40, 0.60], \n",
    "    num_simulation=500,\n",
    "    num_trading_days=252 * 10  \n",
    ")"
   ]
  },
  {
   "cell_type": "code",
   "execution_count": 98,
   "metadata": {
    "tags": []
   },
   "outputs": [
    {
     "ename": "NameError",
     "evalue": "name 'sim_10y' is not defined",
     "output_type": "error",
     "traceback": [
      "\u001b[1;31m---------------------------------------------------------------------------\u001b[0m",
      "\u001b[1;31mNameError\u001b[0m                                 Traceback (most recent call last)",
      "Cell \u001b[1;32mIn[98], line 2\u001b[0m\n\u001b[0;32m      1\u001b[0m \u001b[38;5;66;03m# Running a Monte Carlo simulation to forecast 10 years cumulative returns\u001b[39;00m\n\u001b[1;32m----> 2\u001b[0m sim_10y\u001b[38;5;241m.\u001b[39mcalc_cumulative_return()\n",
      "\u001b[1;31mNameError\u001b[0m: name 'sim_10y' is not defined"
     ]
    }
   ],
   "source": [
    "# Running a Monte Carlo simulation to forecast 10 years cumulative returns\n",
    "sim_10y.calc_cumulative_return()\n"
   ]
  },
  {
   "cell_type": "code",
   "execution_count": 99,
   "metadata": {
    "tags": []
   },
   "outputs": [
    {
     "ename": "NameError",
     "evalue": "name 'sim_10y' is not defined",
     "output_type": "error",
     "traceback": [
      "\u001b[1;31m---------------------------------------------------------------------------\u001b[0m",
      "\u001b[1;31mNameError\u001b[0m                                 Traceback (most recent call last)",
      "Cell \u001b[1;32mIn[99], line 2\u001b[0m\n\u001b[0;32m      1\u001b[0m \u001b[38;5;66;03m# Plot simulation outcomes\u001b[39;00m\n\u001b[1;32m----> 2\u001b[0m line_plot \u001b[38;5;241m=\u001b[39m sim_10y\u001b[38;5;241m.\u001b[39mplot_simulation()\n",
      "\u001b[1;31mNameError\u001b[0m: name 'sim_10y' is not defined"
     ]
    }
   ],
   "source": [
    "# Plot simulation outcomes\n",
    "line_plot = sim_10y.plot_simulation()\n"
   ]
  },
  {
   "cell_type": "code",
   "execution_count": 100,
   "metadata": {
    "tags": []
   },
   "outputs": [
    {
     "ename": "NameError",
     "evalue": "name 'sim_10y' is not defined",
     "output_type": "error",
     "traceback": [
      "\u001b[1;31m---------------------------------------------------------------------------\u001b[0m",
      "\u001b[1;31mNameError\u001b[0m                                 Traceback (most recent call last)",
      "Cell \u001b[1;32mIn[100], line 2\u001b[0m\n\u001b[0;32m      1\u001b[0m \u001b[38;5;66;03m# Plot probability distribution and confidence intervals\u001b[39;00m\n\u001b[1;32m----> 2\u001b[0m dist_plot \u001b[38;5;241m=\u001b[39m sim_10y\u001b[38;5;241m.\u001b[39mplot_distribution()\n",
      "\u001b[1;31mNameError\u001b[0m: name 'sim_10y' is not defined"
     ]
    }
   ],
   "source": [
    "# Plot probability distribution and confidence intervals\n",
    "dist_plot = sim_10y.plot_distribution()"
   ]
  },
  {
   "cell_type": "code",
   "execution_count": 101,
   "metadata": {
    "tags": []
   },
   "outputs": [
    {
     "ename": "NameError",
     "evalue": "name 'sim_10y' is not defined",
     "output_type": "error",
     "traceback": [
      "\u001b[1;31m---------------------------------------------------------------------------\u001b[0m",
      "\u001b[1;31mNameError\u001b[0m                                 Traceback (most recent call last)",
      "Cell \u001b[1;32mIn[101], line 2\u001b[0m\n\u001b[0;32m      1\u001b[0m \u001b[38;5;66;03m# Fetch summary statistics from the Monte Carlo simulation results\u001b[39;00m\n\u001b[1;32m----> 2\u001b[0m summary_stats \u001b[38;5;241m=\u001b[39m sim_10y\u001b[38;5;241m.\u001b[39msummarize_cumulative_return()\n\u001b[0;32m      4\u001b[0m \u001b[38;5;66;03m# Print summary statistics\u001b[39;00m\n\u001b[0;32m      5\u001b[0m \u001b[38;5;28mprint\u001b[39m(summary_stats)\n",
      "\u001b[1;31mNameError\u001b[0m: name 'sim_10y' is not defined"
     ]
    }
   ],
   "source": [
    "# Fetch summary statistics from the Monte Carlo simulation results\n",
    "summary_stats = sim_10y.summarize_cumulative_return()\n",
    "\n",
    "# Print summary statistics\n",
    "print(summary_stats)\n"
   ]
  },
  {
   "cell_type": "code",
   "execution_count": 102,
   "metadata": {
    "tags": []
   },
   "outputs": [
    {
     "ename": "NameError",
     "evalue": "name 'summary_stats' is not defined",
     "output_type": "error",
     "traceback": [
      "\u001b[1;31m---------------------------------------------------------------------------\u001b[0m",
      "\u001b[1;31mNameError\u001b[0m                                 Traceback (most recent call last)",
      "Cell \u001b[1;32mIn[102], line 5\u001b[0m\n\u001b[0;32m      2\u001b[0m initial_investment \u001b[38;5;241m=\u001b[39m \u001b[38;5;241m60000\u001b[39m\n\u001b[0;32m      4\u001b[0m \u001b[38;5;66;03m# Use the lower and upper `95%` confidence intervals to calculate the range of the possible outcomes of our $60,000\u001b[39;00m\n\u001b[1;32m----> 5\u001b[0m ci_lower_ten \u001b[38;5;241m=\u001b[39m \u001b[38;5;28mround\u001b[39m(summary_stats[\u001b[38;5;241m8\u001b[39m] \u001b[38;5;241m*\u001b[39m initial_investment, \u001b[38;5;241m2\u001b[39m)\n\u001b[0;32m      6\u001b[0m ci_upper_ten \u001b[38;5;241m=\u001b[39m \u001b[38;5;28mround\u001b[39m(summary_stats[\u001b[38;5;241m9\u001b[39m] \u001b[38;5;241m*\u001b[39m initial_investment, \u001b[38;5;241m2\u001b[39m)\n\u001b[0;32m      8\u001b[0m \u001b[38;5;66;03m# Print results\u001b[39;00m\n",
      "\u001b[1;31mNameError\u001b[0m: name 'summary_stats' is not defined"
     ]
    }
   ],
   "source": [
    "# Set initial investment\n",
    "initial_investment = 60000\n",
    "\n",
    "# Use the lower and upper `95%` confidence intervals to calculate the range of the possible outcomes of our $60,000\n",
    "ci_lower_ten = round(summary_stats[8] * initial_investment, 2)\n",
    "ci_upper_ten = round(summary_stats[9] * initial_investment, 2)\n",
    "\n",
    "# Print results\n",
    "print(f\"There is a 95% chance that an initial investment of ${initial_investment} in the portfolio\"\n",
    "      f\" over the next 10 years will end within in the range of\"\n",
    "      f\" ${ci_lower_ten} and ${ci_upper_ten}\")"
   ]
  }
 ],
 "metadata": {
  "kernelspec": {
   "display_name": "Python 3 (ipykernel)",
   "language": "python",
   "name": "python3"
  },
  "language_info": {
   "codemirror_mode": {
    "name": "ipython",
    "version": 3
   },
   "file_extension": ".py",
   "mimetype": "text/x-python",
   "name": "python",
   "nbconvert_exporter": "python",
   "pygments_lexer": "ipython3",
   "version": "3.11.5"
  },
  "nteract": {
   "version": "0.28.0"
  }
 },
 "nbformat": 4,
 "nbformat_minor": 4
}
